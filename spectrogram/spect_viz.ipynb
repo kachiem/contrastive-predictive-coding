{
 "cells": [
  {
   "cell_type": "code",
   "execution_count": 5,
   "metadata": {},
   "outputs": [],
   "source": [
    "from __future__ import print_function\n",
    "%matplotlib inline\n",
    "import matplotlib.pyplot as plt\n",
    "import seaborn as sns\n",
    "sns.set_context(\"notebook\", font_scale=1.5, rc={\"lines.linewidth\": 2.5})\n",
    "sns.set_style(style='white')\n",
    "\n",
    "from IPython import display\n",
    "\n",
    "import os\n",
    "import numpy as np\n",
    "import tensorflow as tf\n",
    "from tensorflow.contrib.distributions import Normal\n",
    "\n",
    "from tensorflow.keras import backend as K\n",
    "from tensorflow.keras.layers import Dense, Dropout\n",
    "#from tensorflow.keras.layers.normalization import BatchNormalization\n",
    "from tensorflow.keras import regularizers"
   ]
  },
  {
   "cell_type": "markdown",
   "metadata": {},
   "source": [
    "spectrogram visualization"
   ]
  },
  {
   "cell_type": "code",
   "execution_count": 6,
   "metadata": {},
   "outputs": [
    {
     "data": {
      "text/plain": [
       "((64, 1199696), (32, 1199696))"
      ]
     },
     "execution_count": 6,
     "metadata": {},
     "output_type": "execute_result"
    }
   ],
   "source": [
    "n_lags = 2\n",
    "spect_height = 32\n",
    "NIN = n_lags*spect_height\n",
    "\n",
    "# location\n",
    "datafolder = '/home/AD/kachiem/memmap/memmap_dataset_stimulus/'\n",
    "visfolder = '/home/AD/kachiem/memmap/memmap_dataset_stimulus_vis/'\n",
    "x_loc = '%sx_lag%03d.dat' % (datafolder, n_lags)\n",
    "y_loc = '%sy_lag%03d.dat' % (datafolder, n_lags)\n",
    "x_loc_vis = '%sx_lag%03d.dat' % (visfolder, n_lags)\n",
    "y_loc_vis = '%sy_lag%03d.dat' % (visfolder, n_lags)\n",
    "\n",
    "# get train data\n",
    "y = np.memmap(x_loc, dtype='float32', mode='r')\n",
    "num_data_samples = int(len(y) / spect_height)\n",
    "x_data = np.memmap(x_loc, dtype='float32', mode='r+', shape=(n_lags*spect_height, num_data_samples))\n",
    "y_data = np.memmap(y_loc, dtype='float32', mode='r+', shape=(spect_height, num_data_samples))\n",
    "\n",
    "x_data.shape, y_data.shape"
   ]
  },
  {
   "cell_type": "code",
   "execution_count": 7,
   "metadata": {},
   "outputs": [],
   "source": [
    "# function to format input dataset\n",
    "class Shuffled_memmap_dataset:\n",
    "    def __init__(self, xfile, yfile, xfile_vis, yfile_vis, vis_ratio=0, valid_ratio=.06):\n",
    "        y_data = np.memmap(yfile, dtype='float32', mode='r')\n",
    "        self.num_data_samples = int(len(y_data) / spect_height)\n",
    "       \n",
    "        y_data_vis = np.memmap(yfile_vis, dtype='float32', mode='r')\n",
    "        self.num_data_samples_vis = int(len(y_data_vis) / spect_height)\n",
    "       \n",
    "        self.x_data = np.memmap(xfile, dtype='float32', mode='r', shape=(n_lags*spect_height, self.num_data_samples))\n",
    "        self.y_data = np.memmap(yfile, dtype='float32', mode='r', shape=(spect_height, self.num_data_samples))\n",
    "       \n",
    "        self.x_data_vis = np.memmap(xfile_vis, dtype='float32', mode='r', shape=(n_lags*spect_height, self.num_data_samples_vis))\n",
    "        self.y_data_vis = np.memmap(yfile_vis, dtype='float32', mode='r', shape=(spect_height, self.num_data_samples_vis))\n",
    "               \n",
    "        #self.num_vis_samples = int(self.num_data_samples*vis_ratio)\n",
    "        self.num_valid_samples = int(self.num_data_samples*valid_ratio)\n",
    "        #vis_start = np.random.randint(self.num_data_samples - self.num_vis_samples)\n",
    "       \n",
    "        #self.vis_idxs = np.arange(vis_start, vis_start + self.num_vis_samples)\n",
    "        #self.data_idxs = np.delete(np.arange(self.num_data_samples), self.vis_idxs)\n",
    "        self.data_idxs_vis = np.arange(self.num_data_samples_vis)\n",
    "        self.data_idxs = np.arange(self.num_data_samples)\n",
    "        #self.num_data_samples -= self.num_vis_samples\n",
    "       \n",
    "        np.random.shuffle(self.data_idxs)\n",
    "        self.valid_idxs, self.data_idxs = np.split(self.data_idxs, [self.num_valid_samples])\n",
    "        self.num_data_samples -= self.num_valid_samples\n",
    "           \n",
    "    def get_data(self, idx):\n",
    "        return self.x_data[:, idx].T, self.y_data[:, idx].T\n",
    "   \n",
    "    def data_iterator(self, batch_size=64):\n",
    "        np.random.shuffle(self.data_idxs)\n",
    "        for batch_idx in range(0, self.num_data_samples, batch_size):\n",
    "            shuff_idx = self.data_idxs[batch_idx:batch_idx+batch_size]\n",
    "            yield self.get_data(shuff_idx)\n",
    "   \n",
    "    def valid_set(self):\n",
    "        return self.get_data(self.valid_idxs)\n",
    "   \n",
    "    def valid_iterator(self, batch_size=64):\n",
    "        for batch_idx in range(0, self.num_valid_samples, batch_size):\n",
    "            valid_idx = self.valid_idxs[batch_idx:batch_idx+batch_size]\n",
    "            yield self.get_data(valid_idx)\n",
    "   \n",
    "    def vis_set(self):\n",
    "        #return self.get_data(self.vis_idxs)\n",
    "        return self.get_data(self.data_idxs_vis)\n",
    "   \n",
    "    #def vis_iterator(self, start=0, end=None, batch_size=1):\n",
    "    #    if end is None:\n",
    "    #        end = self.num_vis_samples\n",
    "    #    for batch_idx in range(start, end, batch_size):\n",
    "    #        data_idx = self.vis_idxs[batch_idx:batch_idx+batch_size]\n",
    "    #        yield self.get_data(data_idx)\n",
    "           \n",
    "    def vis_iterator(self, start=0, end=None, batch_size=1):\n",
    "        if end is None:\n",
    "            end = self.num_data_samples_vis\n",
    "        for batch_idx in range(start, end, batch_size):\n",
    "            data_idx = self.data_idxs_vis[batch_idx:batch_idx+batch_size]\n",
    "            yield self.get_data(data_idx)\n",
    "\n",
    "dataset = Shuffled_memmap_dataset(x_loc, y_loc, x_loc_vis, y_loc_vis)\n"
   ]
  },
  {
   "cell_type": "code",
   "execution_count": 8,
   "metadata": {},
   "outputs": [],
   "source": [
    "## Get visualization dataset\n",
    "vis_x, vis_y = dataset.vis_set()\n",
    "# took a subset of test set for visualization\n",
    "start = 3000\n",
    "end = start + 1000\n",
    "sub_vis_x = vis_x[start:end, :]\n",
    "sub_vis_y = vis_y[start:end, :]"
   ]
  },
  {
   "cell_type": "code",
   "execution_count": 9,
   "metadata": {
    "collapsed": true
   },
   "outputs": [
    {
     "data": {
      "text/plain": [
       "[<matplotlib.lines.Line2D at 0x7fa9e6b36160>,\n",
       " <matplotlib.lines.Line2D at 0x7fa9e6b362e8>,\n",
       " <matplotlib.lines.Line2D at 0x7fa9e6b36470>,\n",
       " <matplotlib.lines.Line2D at 0x7fa9e6b365f8>,\n",
       " <matplotlib.lines.Line2D at 0x7fa9e6b36780>,\n",
       " <matplotlib.lines.Line2D at 0x7fa9e6b36908>,\n",
       " <matplotlib.lines.Line2D at 0x7fa9e6b36a90>,\n",
       " <matplotlib.lines.Line2D at 0x7fa9e6b36c18>,\n",
       " <matplotlib.lines.Line2D at 0x7fa9e6b36da0>,\n",
       " <matplotlib.lines.Line2D at 0x7fa9e6b36f28>,\n",
       " <matplotlib.lines.Line2D at 0x7faa0b96b630>,\n",
       " <matplotlib.lines.Line2D at 0x7fa9e6b3d240>,\n",
       " <matplotlib.lines.Line2D at 0x7fa9e6b3d3c8>,\n",
       " <matplotlib.lines.Line2D at 0x7fa9e6b3d550>,\n",
       " <matplotlib.lines.Line2D at 0x7fa9e6b3d6d8>,\n",
       " <matplotlib.lines.Line2D at 0x7fa9e6b3d860>,\n",
       " <matplotlib.lines.Line2D at 0x7fa9e6b3d9e8>,\n",
       " <matplotlib.lines.Line2D at 0x7fa9e6b3db70>,\n",
       " <matplotlib.lines.Line2D at 0x7fa9e6b3dcf8>,\n",
       " <matplotlib.lines.Line2D at 0x7fa9e6b3de80>,\n",
       " <matplotlib.lines.Line2D at 0x7fa9e6b43048>,\n",
       " <matplotlib.lines.Line2D at 0x7fa9e6b431d0>,\n",
       " <matplotlib.lines.Line2D at 0x7fa9e6b43358>,\n",
       " <matplotlib.lines.Line2D at 0x7fa9e6b434e0>,\n",
       " <matplotlib.lines.Line2D at 0x7fa9e6b43668>,\n",
       " <matplotlib.lines.Line2D at 0x7fa9e6b437f0>,\n",
       " <matplotlib.lines.Line2D at 0x7fa9e6b43978>,\n",
       " <matplotlib.lines.Line2D at 0x7fa9e6b43b00>,\n",
       " <matplotlib.lines.Line2D at 0x7fa9e6b43c88>,\n",
       " <matplotlib.lines.Line2D at 0x7fa9e6b43e10>,\n",
       " <matplotlib.lines.Line2D at 0x7fa9e6b43f98>,\n",
       " <matplotlib.lines.Line2D at 0x7fa9e6b46160>,\n",
       " <matplotlib.lines.Line2D at 0x7fa9e6b462e8>,\n",
       " <matplotlib.lines.Line2D at 0x7fa9e6b46470>,\n",
       " <matplotlib.lines.Line2D at 0x7fa9e6b465f8>,\n",
       " <matplotlib.lines.Line2D at 0x7fa9e6b46780>,\n",
       " <matplotlib.lines.Line2D at 0x7fa9e6b46908>,\n",
       " <matplotlib.lines.Line2D at 0x7fa9e6b46a90>,\n",
       " <matplotlib.lines.Line2D at 0x7fa9e6b46c18>,\n",
       " <matplotlib.lines.Line2D at 0x7fa9e6b46da0>,\n",
       " <matplotlib.lines.Line2D at 0x7fa9e6b46f28>,\n",
       " <matplotlib.lines.Line2D at 0x7fa9e6b4a0f0>,\n",
       " <matplotlib.lines.Line2D at 0x7fa9e6b4a278>,\n",
       " <matplotlib.lines.Line2D at 0x7fa9e6b4a400>,\n",
       " <matplotlib.lines.Line2D at 0x7fa9e6b4a588>,\n",
       " <matplotlib.lines.Line2D at 0x7fa9e6b4a710>,\n",
       " <matplotlib.lines.Line2D at 0x7fa9e6b4a898>,\n",
       " <matplotlib.lines.Line2D at 0x7fa9e6b4aa20>,\n",
       " <matplotlib.lines.Line2D at 0x7fa9e6b4aba8>,\n",
       " <matplotlib.lines.Line2D at 0x7fa9e6b4ad30>,\n",
       " <matplotlib.lines.Line2D at 0x7fa9e6b4aeb8>,\n",
       " <matplotlib.lines.Line2D at 0x7fa9e6b4f080>,\n",
       " <matplotlib.lines.Line2D at 0x7fa9e6b4f208>,\n",
       " <matplotlib.lines.Line2D at 0x7fa9e6b4f390>,\n",
       " <matplotlib.lines.Line2D at 0x7fa9e6b4f518>,\n",
       " <matplotlib.lines.Line2D at 0x7fa9e6b4f6a0>,\n",
       " <matplotlib.lines.Line2D at 0x7fa9e6b4f828>,\n",
       " <matplotlib.lines.Line2D at 0x7fa9e6b4f9b0>,\n",
       " <matplotlib.lines.Line2D at 0x7fa9e6b4fb38>,\n",
       " <matplotlib.lines.Line2D at 0x7fa9e6b4fcc0>,\n",
       " <matplotlib.lines.Line2D at 0x7fa9e6b4fe48>,\n",
       " <matplotlib.lines.Line2D at 0x7fa9e6b4ffd0>,\n",
       " <matplotlib.lines.Line2D at 0x7fa9e6b53198>,\n",
       " <matplotlib.lines.Line2D at 0x7fa9e6b53320>]"
      ]
     },
     "execution_count": 9,
     "metadata": {},
     "output_type": "execute_result"
    },
    {
     "data": {
      "image/png": "[encoded data removed]",
      "text/plain": [
       "<matplotlib.figure.Figure at 0x7faa0bb64be0>"
      ]
     },
     "metadata": {},
     "output_type": "display_data"
    }
   ],
   "source": [
    "plt.plot(sub_vis_x, sub_vis_y)"
   ]
  },
  {
   "cell_type": "code",
   "execution_count": null,
   "metadata": {},
   "outputs": [],
   "source": []
  }
 ],
 "metadata": {
  "kernelspec": {
   "display_name": "Python 3",
   "language": "python",
   "name": "python3"
  },
  "language_info": {
   "codemirror_mode": {
    "name": "ipython",
    "version": 3
   },
   "file_extension": ".py",
   "mimetype": "text/x-python",
   "name": "python",
   "nbconvert_exporter": "python",
   "pygments_lexer": "ipython3",
   "version": "3.6.8"
  }
 },
 "nbformat": 4,
 "nbformat_minor": 2
}
