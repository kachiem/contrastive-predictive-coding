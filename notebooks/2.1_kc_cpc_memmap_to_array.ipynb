{
 "cells": [
  {
   "cell_type": "code",
   "execution_count": 1,
   "metadata": {},
   "outputs": [
    {
     "name": "stdout",
     "output_type": "stream",
     "text": [
      "/home/AD/kachiem/miniconda3/envs/tf-conda/bin/python3\n",
      "1.13.1\n"
     ]
    }
   ],
   "source": [
    "import numpy as np\n",
    "import glob as glob\n",
    "from os.path import join, basename, dirname, exists\n",
    "import sys\n",
    "print(sys.executable)  #print kernel path\n",
    "#print(sys.path)\n",
    "\n",
    "# tensorflow imports\n",
    "import tensorflow as tf\n",
    "from tensorflow import keras\n",
    "from tensorflow.keras import backend as K\n",
    "from tensorflow.keras import models\n",
    "from tensorflow.keras import layers\n",
    "from tensorflow.keras.utils import Sequence\n",
    "print(tf.__version__)\n",
    "\n",
    "# custom imports\n",
    "import librispect as lspct\n",
    "from librispect.features import predict\n",
    "from librispect.utils import split_validation\n",
    "\n",
    "# cpc import\n",
    "sys.path.insert(1, '../')\n",
    "from data_utils import SortedNumberGenerator\n",
    "sys.path.insert(1, 'notebooks/')"
   ]
  },
  {
   "cell_type": "markdown",
   "metadata": {},
   "source": [
    "attempting to connect srihita's memmap spectrogram function to train_model  \n"
   ]
  },
  {
   "cell_type": "code",
   "execution_count": 2,
   "metadata": {},
   "outputs": [],
   "source": [
    "'''\n",
    "Instead of images and labels, I have spectrogram segments x and y.\n",
    "So x is input and y would be output (aka labels). \n",
    "You train on bunch of (x - power,y - number of samples), let's call it train_x and train_y.\n",
    "Then when you input test_x, you should get test_y (or vis_x and vis_y in this case)\n",
    "'''\n",
    "\n",
    "# spect_height = number of freq. bins\n",
    "# y always has one time bin\n",
    "# n_lags is number of time bins of x\n",
    "# shape of x = (n_lags,spect_height) x number of samples\n",
    "# shape of y = (1, spect_height) x number of samples\n",
    "\n",
    "n_lags = 2\n",
    "spect_height = 32\n",
    "NIN = n_lags*spect_height\n",
    "\n",
    "# args for the following class, MemmapHandler\n",
    "datafolder = '/home/AD/kachiem/memmap/memmap_dataset_stimulus/'\n",
    "visfolder = '/home/AD/kachiem/memmap/memmap_dataset_stimulus_vis/'\n",
    "n_lags = 2\n",
    "spect_height = 32\n",
    "#subset = 'train'"
   ]
  },
  {
   "cell_type": "code",
   "execution_count": 3,
   "metadata": {},
   "outputs": [],
   "source": [
    "# convert to array\n",
    "def memmap_to_arr(memmap, shape):\n",
    "    # memmap: input np.memmap()\n",
    "    # shape: (samples, channels, features (freq))\n",
    "    \n",
    "    memmap = np.asarray(memmap.T[:].tolist()).reshape(shape)\n",
    "    lst = [np.asarray(memmap[i]) for i in range(0,len(memmap))]\n",
    "    arr = np.array(lst)\n",
    "    print(arr.shape)\n",
    "    \n",
    "    return arr"
   ]
  },
  {
   "cell_type": "code",
   "execution_count": 4,
   "metadata": {
    "scrolled": true
   },
   "outputs": [],
   "source": [
    "#x_data = memmap_to_arr(xdata, (xdata.shape[1], 2, 32))"
   ]
  },
  {
   "cell_type": "markdown",
   "metadata": {},
   "source": [
    "train data"
   ]
  },
  {
   "cell_type": "code",
   "execution_count": 5,
   "metadata": {},
   "outputs": [
    {
     "data": {
      "text/plain": [
       "((9597568,), (64, 149962), (32, 149962))"
      ]
     },
     "execution_count": 5,
     "metadata": {},
     "output_type": "execute_result"
    }
   ],
   "source": [
    "# loading train data\n",
    "why = np.lib.format.open_memmap('x.npy', dtype='float32', mode='r')\n",
    "num_data_samples = int(len(why) / spect_height)\n",
    "xdata = np.lib.format.open_memmap('x_data.npy', dtype='float32', mode='r', shape=(n_lags*spect_height, num_data_samples))\n",
    "ydata = np.lib.format.open_memmap('y_data.npy', dtype='float32', mode='r', shape=(spect_height, num_data_samples))\n",
    "\n",
    "why.shape, xdata.shape, ydata.shape"
   ]
  },
  {
   "cell_type": "code",
   "execution_count": 6,
   "metadata": {},
   "outputs": [
    {
     "name": "stdout",
     "output_type": "stream",
     "text": [
      "(149962, 2, 32)\n",
      "(149962, 1, 32)\n"
     ]
    },
    {
     "data": {
      "text/plain": [
       "(9597568,)"
      ]
     },
     "execution_count": 6,
     "metadata": {},
     "output_type": "execute_result"
    }
   ],
   "source": [
    "data = why[:]\n",
    "x_data = memmap_to_arr(xdata, (xdata.shape[1], 2, 32))\n",
    "y_data = memmap_to_arr(ydata, (ydata.shape[1], 1, 32))\n",
    "\n",
    "data.shape"
   ]
  },
  {
   "cell_type": "code",
   "execution_count": 7,
   "metadata": {},
   "outputs": [
    {
     "name": "stdout",
     "output_type": "stream",
     "text": [
      "<class 'numpy.ndarray'>\n"
     ]
    },
    {
     "data": {
      "text/plain": [
       "((512,), (512, 2, 32), (512, 1, 32))"
      ]
     },
     "execution_count": 7,
     "metadata": {},
     "output_type": "execute_result"
    }
   ],
   "source": [
    "# subsetting to match vis data\n",
    "data = why[:512]\n",
    "x_data = x_data[:512, :, :]\n",
    "y_data = y_data[:512, :, :]\n",
    "\n",
    "num_data_samples = int(len(data) / spect_height)\n",
    "\n",
    "print(type(x_data))\n",
    "data.shape, x_data.shape, y_data.shape"
   ]
  },
  {
   "cell_type": "markdown",
   "metadata": {},
   "source": [
    "test data"
   ]
  },
  {
   "cell_type": "code",
   "execution_count": 8,
   "metadata": {},
   "outputs": [
    {
     "data": {
      "text/plain": [
       "((32, 16653), (64, 16653), (32, 16653))"
      ]
     },
     "execution_count": 8,
     "metadata": {},
     "output_type": "execute_result"
    }
   ],
   "source": [
    "# loading test data\n",
    "why_vis = np.lib.format.open_memmap('y_vis.npy', dtype='float32', mode='r')\n",
    "num_data_samples_vis = int(len(why_vis) / spect_height)\n",
    "xdata_vis = np.lib.format.open_memmap('x_data_vis.npy', dtype='float32', mode='r', shape=(n_lags*spect_height, num_data_samples_vis))\n",
    "ydata_vis = np.lib.format.open_memmap('y_data_vis.npy', dtype='float32', mode='r', shape=(spect_height, num_data_samples_vis))\n",
    "\n",
    "why_vis.shape, xdata_vis.shape, ydata_vis.shape"
   ]
  },
  {
   "cell_type": "code",
   "execution_count": 9,
   "metadata": {},
   "outputs": [
    {
     "name": "stdout",
     "output_type": "stream",
     "text": [
      "(16653, 2, 32)\n",
      "(16653, 1, 32)\n",
      "<class 'numpy.ndarray'>\n"
     ]
    },
    {
     "data": {
      "text/plain": [
       "((32, 16653), (32, 2, 16653))"
      ]
     },
     "execution_count": 9,
     "metadata": {},
     "output_type": "execute_result"
    }
   ],
   "source": [
    "data_vis = why_vis[:]\n",
    "x_data_vis = memmap_to_arr(xdata_vis, (xdata_vis.shape[1], 2, 32))\n",
    "y_data_vis = memmap_to_arr(ydata_vis, (ydata_vis.shape[1], 1, 32))\n",
    "num_data_samples_vis = int(len(data_vis)/ spect_height)\n",
    "\n",
    "print(type(x_data_vis))\n",
    "data_vis.shape, x_data_vis.T.shape"
   ]
  },
  {
   "cell_type": "markdown",
   "metadata": {},
   "source": [
    "data (arrays) into iterator class"
   ]
  },
  {
   "cell_type": "markdown",
   "metadata": {},
   "source": [
    "class Shuffled_memmap_subset(object):\n",
    "    \n",
    "    ''' 1: For creating train/valid/test shuffled memmap dataset '''\n",
    "    \n",
    "    def __init__(self, data, x_data, y_data, subset, n_lags, spect_height, batch_size, vis_ratio=0, valid_ratio=.06):\n",
    "        \n",
    "        # Set params\n",
    "        self.data = data        # open npy file\n",
    "        self.x_data = x_data    # \"\n",
    "        self.y_data = y_data    # \"\n",
    "        self.subset = subset    # string - train/test/valid\n",
    "        self.n_lags = n_lags    # int - time bins \n",
    "        self.batch_size = batch_size  # int - number of samples per batch\n",
    "        self.spect_height = spect_height\n",
    "        self.num_data_samples = int(len(data) / spect_height)\n",
    "        #self.num_data_samples\n",
    "        print(\"input shapes: \", x_data.shape, y_data.shape)\n",
    "\n",
    "        '''\n",
    "        # Initialize memmap handler\n",
    "        self.memmap_handler = MemmapHandler(self.folder, self.n_lags, self.spect_height, self.subset)\n",
    "\n",
    "        # Initialize data\n",
    "        data_loc = self.memmap_handler.read_file_loc(self.folder)\n",
    "        data = self.memmap_handler.init_data(self.folder, self.saved_data, x_location)\n",
    "        self.num_data_samples = self.memmap_handler.get_n_samples('train')\n",
    "        self.dataset = data.memmap_copy(data, data.shape[0], data.shape[1][:1000])\n",
    "        '''\n",
    "        \n",
    "        \n",
    "        # get dataset+batching indicies\n",
    "        #self.num_vis_samples = int(self.num_data_samples*vis_ratio)\n",
    "        self.num_valid_samples = int(self.num_data_samples*valid_ratio)\n",
    "        #vis_start = np.random.randint(self.num_data_samples - self.num_vis_samples)\n",
    "       \n",
    "        #self.vis_idxs = np.arange(vis_start, vis_start + self.num_vis_samples)\n",
    "        #self.data_idxs = np.delete(np.arange(self.num_data_samples), self.vis_idxs)\n",
    "        self.data_idxs = np.arange(self.num_data_samples)\n",
    "        #self.num_data_samples -= self.num_vis_samples\n",
    "        self.n_batches = self.get_n_batches(self.batch_size)\n",
    "       \n",
    "        np.random.shuffle(self.data_idxs)\n",
    "        self.valid_idxs, self.data_idxs = np.split(self.data_idxs, [self.num_valid_samples])\n",
    "        self.num_data_samples -= self.num_valid_samples\n",
    "    \n",
    "    def __len__(self):\n",
    "        return self.n_batches\n",
    "    \n",
    "    def get_n_batches(self, batch_size):\n",
    "        n_batches = 0\n",
    "        for batch_idx in range(0, self.num_data_samples, batch_size):\n",
    "            n_batches +=1\n",
    "        return n_batches\n",
    "            \n",
    "    def get_num_samples(self, subset):\n",
    "        ''' \n",
    "        Return number of samples wrt subset. \n",
    "            subset: a string - 'train', 'valid', or 'test'\n",
    "        '''\n",
    "        if subset == 'train':\n",
    "            return self.num_data_samples\n",
    "        elif subset == 'valid':\n",
    "            return self.num_valid_samples\n",
    "        elif subset == 'test':\n",
    "            return self.num_data_samples_vis\n",
    "    \n",
    "    def get_data(self, idx, batch_size):\n",
    "        return [self.x_data[idx, :, :],self.x_data[idx, :, :]], self.y_data[idx, :, :]\n",
    "    \n",
    "    '''    \n",
    "    def get_data(self, idx, batch_size):\n",
    "        #return self.x_data[idx, :, :].T, self.y_data[idx, :, :].T\n",
    "        x, y = self.x_data[idx, :, :], self.y_data[idx, :, :]\n",
    "        print(\"1:\", x.shape, y.shape)\n",
    "        mid = int(0.5*batch_size)  # to split x samples in half\n",
    "        print(\"mid: \", mid)\n",
    "        x , x2 = x[:mid,:,:], x[:,:,:]\n",
    "        x.reshape(-1, x.shape[0],x.shape[1],x.shape[2])\n",
    "        x2.reshape(-1, x2.shape[0],x2.shape[1],x2.shape[2])\n",
    "        y.reshape(-1, y.shape[0],y.shape[1],y.shape[2])\n",
    "        #np.resize(x, (x.shape)), np.resize(x2, (x2.shape)), np.resize(y, (y.shape))\n",
    "        print(\"2: \", x.shape, x2.shape, y.shape)\n",
    "        return [x, x2], y\n",
    "    '''\n",
    "    \n",
    "   \n",
    "    def data_iterator(self, batch_size):\n",
    "        np.random.shuffle(self.data_idxs)\n",
    "        print(\"n_samples: \", self.num_data_samples)\n",
    "        for batch_idx in range(0, self.num_data_samples, batch_size):\n",
    "            shuff_idx = self.data_idxs[batch_idx:batch_idx+batch_size]\n",
    "            \n",
    "            yield self.get_data(shuff_idx, batch_size)\n",
    "   \n",
    "    def valid_set(self, batch_size):\n",
    "        return self.get_data(self.valid_idxs)\n",
    "   \n",
    "    def valid_iterator(self, batch_size):\n",
    "        for batch_idx in range(0, self.num_valid_samples, batch_size):\n",
    "            valid_idx = self.valid_idxs[batch_idx:batch_idx+batch_size]\n",
    "            valid_data = self.get_data(valid_idx)         \n",
    "            yield valid_data\n",
    "        print(valid_data)"
   ]
  },
  {
   "cell_type": "code",
   "execution_count": 10,
   "metadata": {},
   "outputs": [],
   "source": [
    "class Shuffled_memmap_subset(object):\n",
    "    \n",
    "    ''' 2: For creating train/valid/test shuffled memmap dataset '''\n",
    "    \n",
    "    def __init__(self, data, x_data, y_data, subset, n_lags, spect_height, batch_size, vis_ratio=0, valid_ratio=.06):\n",
    "        \n",
    "        # Set params\n",
    "        self.data = data        # open npy file\n",
    "        self.x_data = x_data    # \"\n",
    "        self.y_data = y_data    # \"\n",
    "        self.subset = subset    # string - train/test/valid\n",
    "        self.n_lags = n_lags    # int - time bins \n",
    "        self.batch_size = batch_size  # int - number of samples per batch\n",
    "        self.spect_height = spect_height\n",
    "        self.num_data_samples = int(len(data) / spect_height)\n",
    "        #self.num_data_samples\n",
    "        print(\"input shapes: \", x_data.shape, y_data.shape)\n",
    "\n",
    "        '''\n",
    "        # Initialize memmap handler\n",
    "        self.memmap_handler = MemmapHandler(self.folder, self.n_lags, self.spect_height, self.subset)\n",
    "\n",
    "        # Initialize data\n",
    "        data_loc = self.memmap_handler.read_file_loc(self.folder)\n",
    "        data = self.memmap_handler.init_data(self.folder, self.saved_data, x_location)\n",
    "        self.num_data_samples = self.memmap_handler.get_n_samples('train')\n",
    "        self.dataset = data.memmap_copy(data, data.shape[0], data.shape[1][:1000])\n",
    "        '''\n",
    "        \n",
    "        \n",
    "        # get dataset+batching indicies\n",
    "        #self.num_vis_samples = int(self.num_data_samples*vis_ratio)\n",
    "        self.num_valid_samples = int(self.num_data_samples*valid_ratio)\n",
    "        #vis_start = np.random.randint(self.num_data_samples - self.num_vis_samples)\n",
    "       \n",
    "        #self.vis_idxs = np.arange(vis_start, vis_start + self.num_vis_samples)\n",
    "        #self.data_idxs = np.delete(np.arange(self.num_data_samples), self.vis_idxs)\n",
    "        self.data_idxs = np.arange(self.num_data_samples)\n",
    "        #self.num_data_samples -= self.num_vis_samples\n",
    "        self.n_batches = self.get_n_batches(self.batch_size)\n",
    "       \n",
    "        np.random.shuffle(self.data_idxs)\n",
    "        self.valid_idxs, self.data_idxs = np.split(self.data_idxs, [self.num_valid_samples])\n",
    "        self.num_data_samples -= self.num_valid_samples\n",
    "    \n",
    "    def __len__(self):\n",
    "        return self.n_batches(batch_size)\n",
    "    \n",
    "    def get_n_batches(self, batch_size):\n",
    "        n_batches = 0\n",
    "        for batch_idx in range(0, self.num_data_samples, batch_size):\n",
    "            n_batches +=1\n",
    "        return n_batches\n",
    "            \n",
    "    def get_num_samples(self, subset):\n",
    "        ''' \n",
    "        Return number of samples wrt subset. \n",
    "            subset: a string - 'train', 'valid', or 'test'\n",
    "        '''\n",
    "        if subset == 'train':\n",
    "            return self.num_data_samples\n",
    "        elif subset == 'valid':\n",
    "            return self.num_valid_samples\n",
    "        elif subset == 'test':\n",
    "            return self.num_data_samples_vis\n",
    "    \n",
    "    def get_data(self, idx, batch_size):\n",
    "        x_data = self.x_data[idx, :, :]\n",
    "        mid_idx = int(0.5*self.num_data_samples)\n",
    "        return [x_data[mid_idx:, ...], x_data[:mid_idx, ...]], self.y_data[idx, :, :]\n",
    "    \n",
    "    '''    \n",
    "    def get_data(self, idx, batch_size):\n",
    "        #return self.x_data[idx, :, :].T, self.y_data[idx, :, :].T\n",
    "        x, y = self.x_data[idx, :, :], self.y_data[idx, :, :]\n",
    "        print(\"1:\", x.shape, y.shape)\n",
    "        mid = int(0.5*batch_size)  # to split x samples in half\n",
    "        print(\"mid: \", mid)\n",
    "        x , x2 = x[:mid,:,:], x[:,:,:]\n",
    "        x.reshape(-1, x.shape[0],x.shape[1],x.shape[2])\n",
    "        x2.reshape(-1, x2.shape[0],x2.shape[1],x2.shape[2])\n",
    "        y.reshape(-1, y.shape[0],y.shape[1],y.shape[2])\n",
    "        #np.resize(x, (x.shape)), np.resize(x2, (x2.shape)), np.resize(y, (y.shape))\n",
    "        print(\"2: \", x.shape, x2.shape, y.shape)\n",
    "        return [x, x2], y\n",
    "    '''\n",
    "    \n",
    "   \n",
    "    def data_iterator(self, batch_size):\n",
    "        np.random.shuffle(self.data_idxs)\n",
    "        print(\"n_samples: \", self.num_data_samples)\n",
    "        for batch_idx in range(0, self.num_data_samples, batch_size):\n",
    "            shuff_idx = self.data_idxs[batch_idx:batch_idx+batch_size]\n",
    "            \n",
    "            yield self.get_data(shuff_idx, batch_size)\n",
    "   \n",
    "    def valid_set(self, batch_size):\n",
    "        return self.get_data(self.valid_idxs)\n",
    "   \n",
    "    def valid_iterator(self, batch_size):\n",
    "        for batch_idx in range(0, self.num_valid_samples, batch_size):\n",
    "            valid_idx = self.valid_idxs[batch_idx:batch_idx+batch_size]\n",
    "            valid_data = self.get_data(valid_idx)         \n",
    "            yield valid_data\n",
    "        print(valid_data)"
   ]
  },
  {
   "cell_type": "markdown",
   "metadata": {},
   "source": [
    "examining input to cpc model"
   ]
  },
  {
   "cell_type": "code",
   "execution_count": 11,
   "metadata": {},
   "outputs": [
    {
     "name": "stdout",
     "output_type": "stream",
     "text": [
      "input shapes:  (512, 2, 32) (512, 1, 32)\n"
     ]
    }
   ],
   "source": [
    "# test iterator object\n",
    "train_data = Shuffled_memmap_subset(\n",
    "    data=data,\n",
    "    x_data=x_data,\n",
    "    y_data=y_data,\n",
    "    subset='train', \n",
    "    n_lags=2,\n",
    "    spect_height=32,\n",
    "    batch_size=32\n",
    "    )"
   ]
  },
  {
   "cell_type": "code",
   "execution_count": 12,
   "metadata": {},
   "outputs": [
    {
     "name": "stdout",
     "output_type": "stream",
     "text": [
      "n_samples:  16\n"
     ]
    },
    {
     "ename": "AttributeError",
     "evalue": "'tuple' object has no attribute 'shape'",
     "output_type": "error",
     "traceback": [
      "\u001b[0;31m---------------------------------------\u001b[0m",
      "\u001b[0;31mAttributeError\u001b[0mTraceback (most recent call last)",
      "\u001b[0;32m<ipython-input-12-37cb71278992>\u001b[0m in \u001b[0;36m<module>\u001b[0;34m\u001b[0m\n\u001b[0;32m----> 1\u001b[0;31m \u001b[0mnext\u001b[0m\u001b[0;34m(\u001b[0m\u001b[0mtrain_data\u001b[0m\u001b[0;34m.\u001b[0m\u001b[0mdata_iterator\u001b[0m\u001b[0;34m(\u001b[0m\u001b[0;36m64\u001b[0m\u001b[0;34m)\u001b[0m\u001b[0;34m)\u001b[0m\u001b[0;34m.\u001b[0m\u001b[0mshape\u001b[0m\u001b[0;34m\u001b[0m\u001b[0;34m\u001b[0m\u001b[0m\n\u001b[0m",
      "\u001b[0;31mAttributeError\u001b[0m: 'tuple' object has no attribute 'shape'"
     ]
    }
   ],
   "source": [
    "next(train_data.data_iterator(64)).shape"
   ]
  },
  {
   "cell_type": "code",
   "execution_count": 20,
   "metadata": {},
   "outputs": [],
   "source": [
    "def network_encoder(x, code_size):\n",
    "\n",
    "    ''' Define the network mapping images to embeddings '''\n",
    "    x = keras.layers.Conv1D(filters=2, kernel_size=2, strides=1, data_format=\"channels_last\", activation='relu')(x)\n",
    "    x = keras.layers.BatchNormalization()(x)\n",
    "    x = keras.layers.LeakyReLU()(x)\n",
    "    x = keras.layers.Conv1D(filters=2, kernel_size=2, strides=1, activation='relu')(x)\n",
    "    x = keras.layers.BatchNormalization()(x)\n",
    "    x = keras.layers.LeakyReLU()(x)\n",
    "    x = keras.layers.Conv1D(filters=4, kernel_size=2, strides=2, activation='relu')(x)\n",
    "    x = keras.layers.BatchNormalization()(x)\n",
    "    x = keras.layers.LeakyReLU()(x)\n",
    "    x = keras.layers.Conv1D(filters=4, kernel_size=2, strides=2, activation='relu')(x)\n",
    "    x = keras.layers.BatchNormalization()(x)\n",
    "    x = keras.layers.LeakyReLU()(x)\n",
    "    x = keras.layers.Flatten()(x)\n",
    "    x = keras.layers.Dense(units=512, activation='relu')(x)\n",
    "    x = keras.layers.BatchNormalization()(x)\n",
    "    x = keras.layers.LeakyReLU()(x)\n",
    "    x = keras.layers.Dense(units=code_size, activation='relu', name='encoder_embedding')(x)\n",
    "\n",
    "    print(x.shape)\n",
    "    return x\n",
    "\n",
    "\n",
    "def network_autoregressive(x):\n",
    "\n",
    "    ''' Define the network that integrates information along the sequence '''\n",
    "\n",
    "    # x = keras.layers.GRU(units=256, return_sequences=True)(x)\n",
    "    # x = keras.layers.BatchNormalization()(x)\n",
    "    x = keras.layers.GRU(units=256, return_sequences=False, name='ar_context')(x)\n",
    "\n",
    "    return x\n",
    "\n",
    "\n",
    "def network_prediction(context, code_size, predict_terms):\n",
    "\n",
    "    ''' Define the network mapping context to multiple embeddings '''\n",
    "\n",
    "    outputs = []\n",
    "    for i in range(predict_terms):\n",
    "        outputs.append(keras.layers.Dense(units=code_size, activation=\"linear\", name='z_t_{i}'.format(i=i))(context))\n",
    "\n",
    "    if len(outputs) == 1:\n",
    "        output = keras.layers.Lambda(lambda x: K.expand_dims(x, axis=1))(outputs[0])\n",
    "    else:\n",
    "        output = keras.layers.Lambda(lambda x: K.stack(x, axis=1))(outputs)\n",
    "\n",
    "    return output\n",
    "\n",
    "class CPCLayer(keras.layers.Layer):\n",
    "\n",
    "    ''' Computes dot product between true and predicted embedding vectors '''\n",
    "\n",
    "    def __init__(self, **kwargs):\n",
    "        super(CPCLayer, self).__init__(**kwargs)\n",
    "\n",
    "    def call(self, inputs):\n",
    "\n",
    "        # Compute dot product among vectors\n",
    "        preds, y_encoded = inputs\n",
    "        dot_product = K.mean(y_encoded * preds, axis=-1)\n",
    "        dot_product = K.mean(dot_product, axis=-1, keepdims=True)  # average along the temporal dimension\n",
    "\n",
    "        # Keras loss functions take probabilities\n",
    "        dot_product_probs = K.sigmoid(dot_product)\n",
    "\n",
    "        return dot_product_probs\n",
    "\n",
    "    def compute_output_shape(self, input_shape):\n",
    "        #return (input_shape[0][0],1)\n",
    "        return (input_shape[0], 1)\n",
    "\n",
    "def network_cpc(spect_height, n_lags, terms, predict_terms, code_size, input_shape, learning_rate):\n",
    "\n",
    "    ''' Define the CPC network combining encoder and autoregressive model '''\n",
    "\n",
    "    # Set learning phase (https://stackoverflow.com/questions/42969779/keras-error-you-must-feed-a-value-for-placeholder-tensor-bidirectional-1-keras)\n",
    "    K.set_learning_phase(1)\n",
    "\n",
    "    # Define encoder model\n",
    "    encoder_input = keras.layers.Input(shape=(spect_height, n_lags))\n",
    "    #print(encoder_input.shape)\n",
    "    encoder_output = network_encoder(encoder_input, code_size)\n",
    "    #print(encoder_output.shape)\n",
    "    encoder_model = keras.models.Model(encoder_input, encoder_output, name='encoder')\n",
    "    encoder_model.summary()\n",
    "\n",
    "    # Define rest of model\n",
    "    x_input = keras.layers.Input((terms, spect_height, n_lags))\n",
    "    x_encoded = keras.layers.TimeDistributed(encoder_model)(x_input)\n",
    "    context = network_autoregressive(x_encoded)\n",
    "    preds = network_prediction(context, code_size, predict_terms)\n",
    "\n",
    "    y_input = keras.layers.Input((predict_terms, spect_height, n_lags))\n",
    "    y_encoded = keras.layers.TimeDistributed(encoder_model)(y_input)\n",
    "\n",
    "    # Loss\n",
    "    dot_product_probs = CPCLayer()([preds, y_encoded])\n",
    "\n",
    "    # Model\n",
    "    cpc_model = keras.models.Model(inputs=[x_input, y_input], outputs=dot_product_probs)\n",
    "\n",
    "    # Compile model\n",
    "    cpc_model.compile(\n",
    "        optimizer=keras.optimizers.Adam(lr=learning_rate),\n",
    "        loss='binary_crossentropy',\n",
    "        metrics=['binary_accuracy']\n",
    "    )\n",
    "    cpc_model.summary()\n",
    "\n",
    "    return cpc_model"
   ]
  },
  {
   "cell_type": "code",
   "execution_count": 14,
   "metadata": {},
   "outputs": [],
   "source": [
    "# memmap ver\n",
    "def train_model(batch_size, data, x_data, y_data, data_vis, x_data_vis, y_data_vis, n_lags, spect_height, epochs, output_dir, code_size, lr=2e-4, terms=3, predict_terms=3, color=True):\n",
    "\n",
    "    # Prepare data\n",
    "    # clean up generator more to work by subset\n",
    "    train_data = Shuffled_memmap_subset(\n",
    "        batch_size=batch_size,\n",
    "        data=data,\n",
    "        x_data=x_data,\n",
    "        y_data=y_data,\n",
    "        subset='train', \n",
    "        n_lags=n_lags,\n",
    "        spect_height=spect_height,\n",
    "        )\n",
    "\n",
    "    valid_data = train_data.valid_iterator(batch_size)\n",
    "    \n",
    "    test_data = Shuffled_memmap_subset(\n",
    "        batch_size=batch_size,\n",
    "        data=data_vis,\n",
    "        x_data=x_data_vis,\n",
    "        y_data=y_data_vis,\n",
    "        subset='test', \n",
    "        n_lags=n_lags,\n",
    "        spect_height=spect_height,\n",
    "        )\n",
    "    \n",
    "\n",
    "    \n",
    "    # Prepares the model\n",
    "    \n",
    "    model = network_cpc(spect_height=spect_height, n_lags=n_lags, terms=terms, predict_terms=predict_terms, \n",
    "                        code_size=code_size, input_shape=(spect_height, n_lags), learning_rate=lr)\n",
    "    \n",
    "    #model = network_encoder(next(train_data.data_iterator(batch_size))[1], code_size)\n",
    "\n",
    "    # Callbacks\n",
    "    history = keras.callbacks.History()\n",
    "    reduce_LR_Plateau = keras.callbacks.ReduceLROnPlateau(\n",
    "        monitor='val_loss', \n",
    "        factor=1/3, \n",
    "        patience=2, \n",
    "        min_lr=1e-4)\n",
    "    #callbacks = [history, reduce_LR_Plateau]\n",
    "    callbacks = [history]\n",
    "    \n",
    "    # Trains the model\n",
    "    modeled = model.fit_generator(\n",
    "        generator=next(train_data.data_iterator(batch_size)),\n",
    "        steps_per_epoch=len([train_data]),\n",
    "        validation_data=valid_data,\n",
    "        validation_steps=len([valid_data]),\n",
    "        epochs=epochs,\n",
    "        verbose=1,\n",
    "        callbacks=callbacks\n",
    "    )\n",
    "\n",
    "    # Saves the model\n",
    "    # Remember to add custom_objects={'CPCLayer': CPCLayer} to load_model when loading from disk\n",
    "    model.save(join(output_dir, 'mem_cpc.h5'))\n",
    "\n",
    "    # Saves the encoder alone\n",
    "    encoder = model.layers[1].layer\n",
    "    encoder.save(join(output_dir, 'mem_encoder.h5'))\n",
    "    \n",
    "    # plotting loss\n",
    "    train_loss = modeled.history['loss']\n",
    "    val_loss = modeled.history['val_loss']\n",
    "    epoch_count = range(1, epochs+1)    # 10 epochs\n",
    "\n",
    "    plt.plot(epoch_count, train_loss, 'r--')\n",
    "    plt.plot(epoch_count, val_loss, 'o-')\n",
    "    plt.legend(['Training Loss', 'Validation Loss'])\n",
    "    plt.title('')\n",
    "    plt.xlabel('Epoch')\n",
    "    plt.ylabel('Loss')\n",
    "    \n",
    "    t = time.localtime()\n",
    "    timestamp = time.strftime('%b-%d-%Y_%H%M', t)\n",
    "    plt.savefig(output_dir + \"img/\" + timestamp + \"_mem.png\")\n",
    "\n",
    "    return model"
   ]
  },
  {
   "cell_type": "code",
   "execution_count": 21,
   "metadata": {
    "scrolled": false
   },
   "outputs": [
    {
     "name": "stdout",
     "output_type": "stream",
     "text": [
      "input shapes:  (512, 2, 32) (512, 1, 32)\n",
      "input shapes:  (16653, 2, 32) (16653, 1, 32)\n",
      "WARNING:tensorflow:From /home/AD/kachiem/miniconda3/envs/tf-conda/lib/python3.7/site-packages/tensorflow/python/ops/resource_variable_ops.py:435: colocate_with (from tensorflow.python.framework.ops) is deprecated and will be removed in a future version.\n",
      "Instructions for updating:\n",
      "Colocations handled automatically by placer.\n",
      "(?, 512)\n",
      "_________________________________________________________________\n",
      "Layer (type)                 Output Shape              Param #   \n",
      "=================================================================\n",
      "input_4 (InputLayer)         (None, 32, 2)             0         \n",
      "_________________________________________________________________\n",
      "conv1d_1 (Conv1D)            (None, 31, 2)             10        \n",
      "_________________________________________________________________\n",
      "batch_normalization_v1 (Batc (None, 31, 2)             8         \n",
      "_________________________________________________________________\n",
      "leaky_re_lu (LeakyReLU)      (None, 31, 2)             0         \n",
      "_________________________________________________________________\n",
      "conv1d_2 (Conv1D)            (None, 30, 2)             10        \n",
      "_________________________________________________________________\n",
      "batch_normalization_v1_1 (Ba (None, 30, 2)             8         \n",
      "_________________________________________________________________\n",
      "leaky_re_lu_1 (LeakyReLU)    (None, 30, 2)             0         \n",
      "_________________________________________________________________\n",
      "conv1d_3 (Conv1D)            (None, 15, 4)             20        \n",
      "_________________________________________________________________\n",
      "batch_normalization_v1_2 (Ba (None, 15, 4)             16        \n",
      "_________________________________________________________________\n",
      "leaky_re_lu_2 (LeakyReLU)    (None, 15, 4)             0         \n",
      "_________________________________________________________________\n",
      "conv1d_4 (Conv1D)            (None, 7, 4)              36        \n",
      "_________________________________________________________________\n",
      "batch_normalization_v1_3 (Ba (None, 7, 4)              16        \n",
      "_________________________________________________________________\n",
      "leaky_re_lu_3 (LeakyReLU)    (None, 7, 4)              0         \n",
      "_________________________________________________________________\n",
      "flatten (Flatten)            (None, 28)                0         \n",
      "_________________________________________________________________\n",
      "dense (Dense)                (None, 512)               14848     \n",
      "_________________________________________________________________\n",
      "batch_normalization_v1_4 (Ba (None, 512)               2048      \n",
      "_________________________________________________________________\n",
      "leaky_re_lu_4 (LeakyReLU)    (None, 512)               0         \n",
      "_________________________________________________________________\n",
      "encoder_embedding (Dense)    (None, 512)               262656    \n",
      "=================================================================\n",
      "Total params: 279,676\n",
      "Trainable params: 278,628\n",
      "Non-trainable params: 1,048\n",
      "_________________________________________________________________\n",
      "__________________________________________________________________________________________________\n",
      "Layer (type)                    Output Shape         Param #     Connected to                     \n",
      "==================================================================================================\n",
      "input_5 (InputLayer)            (None, 3, 32, 2)     0                                            \n",
      "__________________________________________________________________________________________________\n",
      "time_distributed (TimeDistribut (None, 3, 512)       279676      input_5[0][0]                    \n",
      "__________________________________________________________________________________________________\n",
      "ar_context (GRU)                (None, 256)          590592      time_distributed[0][0]           \n",
      "__________________________________________________________________________________________________\n",
      "z_t_0 (Dense)                   (None, 512)          131584      ar_context[0][0]                 \n",
      "__________________________________________________________________________________________________\n",
      "z_t_1 (Dense)                   (None, 512)          131584      ar_context[0][0]                 \n",
      "__________________________________________________________________________________________________\n",
      "z_t_2 (Dense)                   (None, 512)          131584      ar_context[0][0]                 \n",
      "__________________________________________________________________________________________________\n",
      "input_6 (InputLayer)            (None, 3, 32, 2)     0                                            \n",
      "__________________________________________________________________________________________________\n",
      "lambda (Lambda)                 (None, 3, 512)       0           z_t_0[0][0]                      \n",
      "                                                                 z_t_1[0][0]                      \n",
      "                                                                 z_t_2[0][0]                      \n",
      "__________________________________________________________________________________________________\n",
      "time_distributed_1 (TimeDistrib (None, 3, 512)       279676      input_6[0][0]                    \n",
      "__________________________________________________________________________________________________\n",
      "cpc_layer (CPCLayer)            (None, 1)            0           lambda[0][0]                     \n",
      "                                                                 time_distributed_1[0][0]         \n",
      "==================================================================================================\n",
      "Total params: 1,265,020\n",
      "Trainable params: 1,263,972\n",
      "Non-trainable params: 1,048\n",
      "__________________________________________________________________________________________________\n",
      "n_samples:  16\n"
     ]
    },
    {
     "ename": "ValueError",
     "evalue": "You must specify `batch_size`",
     "output_type": "error",
     "traceback": [
      "\u001b[0;31m---------------------------------------\u001b[0m",
      "\u001b[0;31mValueError\u001b[0mTraceback (most recent call last)",
      "\u001b[0;32m<ipython-input-21-aa711487d0cb>\u001b[0m in \u001b[0;36m<module>\u001b[0;34m\u001b[0m\n\u001b[1;32m     19\u001b[0m     \u001b[0mterms\u001b[0m\u001b[0;34m=\u001b[0m\u001b[0;36m3\u001b[0m\u001b[0;34m,\u001b[0m\u001b[0;34m\u001b[0m\u001b[0;34m\u001b[0m\u001b[0m\n\u001b[1;32m     20\u001b[0m     \u001b[0mpredict_terms\u001b[0m\u001b[0;34m=\u001b[0m\u001b[0;36m3\u001b[0m\u001b[0;34m,\u001b[0m\u001b[0;34m\u001b[0m\u001b[0;34m\u001b[0m\u001b[0m\n\u001b[0;32m---> 21\u001b[0;31m     \u001b[0mcolor\u001b[0m\u001b[0;34m=\u001b[0m\u001b[0;32mTrue\u001b[0m\u001b[0;34m\u001b[0m\u001b[0;34m\u001b[0m\u001b[0m\n\u001b[0m\u001b[1;32m     22\u001b[0m )\n",
      "\u001b[0;32m<ipython-input-14-a3813feea2a3>\u001b[0m in \u001b[0;36mtrain_model\u001b[0;34m(batch_size, data, x_data, y_data, data_vis, x_data_vis, y_data_vis, n_lags, spect_height, epochs, output_dir, code_size, lr, terms, predict_terms, color)\u001b[0m\n\u001b[1;32m     53\u001b[0m         \u001b[0mepochs\u001b[0m\u001b[0;34m=\u001b[0m\u001b[0mepochs\u001b[0m\u001b[0;34m,\u001b[0m\u001b[0;34m\u001b[0m\u001b[0;34m\u001b[0m\u001b[0m\n\u001b[1;32m     54\u001b[0m         \u001b[0mverbose\u001b[0m\u001b[0;34m=\u001b[0m\u001b[0;36m1\u001b[0m\u001b[0;34m,\u001b[0m\u001b[0;34m\u001b[0m\u001b[0;34m\u001b[0m\u001b[0m\n\u001b[0;32m---> 55\u001b[0;31m         \u001b[0mcallbacks\u001b[0m\u001b[0;34m=\u001b[0m\u001b[0mcallbacks\u001b[0m\u001b[0;34m\u001b[0m\u001b[0;34m\u001b[0m\u001b[0m\n\u001b[0m\u001b[1;32m     56\u001b[0m     )\n\u001b[1;32m     57\u001b[0m \u001b[0;34m\u001b[0m\u001b[0m\n",
      "\u001b[0;32m~/miniconda3/envs/tf-conda/lib/python3.7/site-packages/tensorflow/python/keras/engine/training.py\u001b[0m in \u001b[0;36mfit_generator\u001b[0;34m(self, generator, steps_per_epoch, epochs, verbose, callbacks, validation_data, validation_steps, class_weight, max_queue_size, workers, use_multiprocessing, shuffle, initial_epoch)\u001b[0m\n\u001b[1;32m   1424\u001b[0m         \u001b[0muse_multiprocessing\u001b[0m\u001b[0;34m=\u001b[0m\u001b[0muse_multiprocessing\u001b[0m\u001b[0;34m,\u001b[0m\u001b[0;34m\u001b[0m\u001b[0;34m\u001b[0m\u001b[0m\n\u001b[1;32m   1425\u001b[0m         \u001b[0mshuffle\u001b[0m\u001b[0;34m=\u001b[0m\u001b[0mshuffle\u001b[0m\u001b[0;34m,\u001b[0m\u001b[0;34m\u001b[0m\u001b[0;34m\u001b[0m\u001b[0m\n\u001b[0;32m-> 1426\u001b[0;31m         initial_epoch=initial_epoch)\n\u001b[0m\u001b[1;32m   1427\u001b[0m \u001b[0;34m\u001b[0m\u001b[0m\n\u001b[1;32m   1428\u001b[0m   def evaluate_generator(self,\n",
      "\u001b[0;32m~/miniconda3/envs/tf-conda/lib/python3.7/site-packages/tensorflow/python/keras/engine/training_generator.py\u001b[0m in \u001b[0;36mmodel_iteration\u001b[0;34m(model, data, steps_per_epoch, epochs, verbose, callbacks, validation_data, validation_steps, class_weight, max_queue_size, workers, use_multiprocessing, shuffle, initial_epoch, mode, batch_size, **kwargs)\u001b[0m\n\u001b[1;32m    113\u001b[0m       \u001b[0mbatch_size\u001b[0m\u001b[0;34m=\u001b[0m\u001b[0mbatch_size\u001b[0m\u001b[0;34m,\u001b[0m\u001b[0;34m\u001b[0m\u001b[0;34m\u001b[0m\u001b[0m\n\u001b[1;32m    114\u001b[0m       \u001b[0mepochs\u001b[0m\u001b[0;34m=\u001b[0m\u001b[0mepochs\u001b[0m \u001b[0;34m-\u001b[0m \u001b[0minitial_epoch\u001b[0m\u001b[0;34m,\u001b[0m\u001b[0;34m\u001b[0m\u001b[0;34m\u001b[0m\u001b[0m\n\u001b[0;32m--> 115\u001b[0;31m       shuffle=shuffle)\n\u001b[0m\u001b[1;32m    116\u001b[0m \u001b[0;34m\u001b[0m\u001b[0m\n\u001b[1;32m    117\u001b[0m   \u001b[0mdo_validation\u001b[0m \u001b[0;34m=\u001b[0m \u001b[0mvalidation_data\u001b[0m \u001b[0;32mis\u001b[0m \u001b[0;32mnot\u001b[0m \u001b[0;32mNone\u001b[0m\u001b[0;34m\u001b[0m\u001b[0;34m\u001b[0m\u001b[0m\n",
      "\u001b[0;32m~/miniconda3/envs/tf-conda/lib/python3.7/site-packages/tensorflow/python/keras/engine/training_generator.py\u001b[0m in \u001b[0;36mconvert_to_generator_like\u001b[0;34m(data, batch_size, steps_per_epoch, epochs, shuffle)\u001b[0m\n\u001b[1;32m    377\u001b[0m   \u001b[0mnum_samples\u001b[0m \u001b[0;34m=\u001b[0m \u001b[0mint\u001b[0m\u001b[0;34m(\u001b[0m\u001b[0mnest\u001b[0m\u001b[0;34m.\u001b[0m\u001b[0mflatten\u001b[0m\u001b[0;34m(\u001b[0m\u001b[0mdata\u001b[0m\u001b[0;34m)\u001b[0m\u001b[0;34m[\u001b[0m\u001b[0;36m0\u001b[0m\u001b[0;34m]\u001b[0m\u001b[0;34m.\u001b[0m\u001b[0mshape\u001b[0m\u001b[0;34m[\u001b[0m\u001b[0;36m0\u001b[0m\u001b[0;34m]\u001b[0m\u001b[0;34m)\u001b[0m\u001b[0;34m\u001b[0m\u001b[0;34m\u001b[0m\u001b[0m\n\u001b[1;32m    378\u001b[0m   \u001b[0;32mif\u001b[0m \u001b[0mbatch_size\u001b[0m \u001b[0;32mis\u001b[0m \u001b[0;32mNone\u001b[0m\u001b[0;34m:\u001b[0m\u001b[0;34m\u001b[0m\u001b[0;34m\u001b[0m\u001b[0m\n\u001b[0;32m--> 379\u001b[0;31m     \u001b[0;32mraise\u001b[0m \u001b[0mValueError\u001b[0m\u001b[0;34m(\u001b[0m\u001b[0;34m'You must specify `batch_size`'\u001b[0m\u001b[0;34m)\u001b[0m\u001b[0;34m\u001b[0m\u001b[0;34m\u001b[0m\u001b[0m\n\u001b[0m\u001b[1;32m    380\u001b[0m   \u001b[0msteps_per_epoch\u001b[0m \u001b[0;34m=\u001b[0m \u001b[0mint\u001b[0m\u001b[0;34m(\u001b[0m\u001b[0mmath\u001b[0m\u001b[0;34m.\u001b[0m\u001b[0mceil\u001b[0m\u001b[0;34m(\u001b[0m\u001b[0mnum_samples\u001b[0m \u001b[0;34m/\u001b[0m \u001b[0mbatch_size\u001b[0m\u001b[0;34m)\u001b[0m\u001b[0;34m)\u001b[0m\u001b[0;34m\u001b[0m\u001b[0;34m\u001b[0m\u001b[0m\n\u001b[1;32m    381\u001b[0m \u001b[0;34m\u001b[0m\u001b[0m\n",
      "\u001b[0;31mValueError\u001b[0m: You must specify `batch_size`"
     ]
    }
   ],
   "source": [
    "train_model(\n",
    "    # x/y train data\n",
    "    data=data,\n",
    "    x_data=x_data,\n",
    "    y_data=y_data,\n",
    "    # x/y test data\n",
    "    data_vis=data_vis,\n",
    "    x_data_vis=x_data_vis,\n",
    "    y_data_vis=y_data_vis,\n",
    "    \n",
    "    # params\n",
    "    n_lags=2, \n",
    "    spect_height=32,\n",
    "    epochs=10,\n",
    "    batch_size=64,\n",
    "    output_dir='models/memmap',\n",
    "    code_size=512,\n",
    "    lr=2e-4,\n",
    "    terms=3,\n",
    "    predict_terms=3,\n",
    "    color=True\n",
    ")"
   ]
  },
  {
   "cell_type": "code",
   "execution_count": 16,
   "metadata": {},
   "outputs": [
    {
     "ename": "AttributeError",
     "evalue": "module 'tensorflow._api.v1.keras' has no attribute 'ImageDataGenerator'",
     "output_type": "error",
     "traceback": [
      "\u001b[0;31m---------------------------------------\u001b[0m",
      "\u001b[0;31mAttributeError\u001b[0mTraceback (most recent call last)",
      "\u001b[0;32m<ipython-input-16-c713e50ae7bf>\u001b[0m in \u001b[0;36m<module>\u001b[0;34m\u001b[0m\n\u001b[0;32m----> 1\u001b[0;31m \u001b[0mkeras\u001b[0m\u001b[0;34m.\u001b[0m\u001b[0mImageDataGenerator\u001b[0m\u001b[0;34m(\u001b[0m\u001b[0;34m)\u001b[0m\u001b[0;34m\u001b[0m\u001b[0;34m\u001b[0m\u001b[0m\n\u001b[0m",
      "\u001b[0;31mAttributeError\u001b[0m: module 'tensorflow._api.v1.keras' has no attribute 'ImageDataGenerator'"
     ]
    }
   ],
   "source": [
    "keras.ImageDataGenerator()"
   ]
  },
  {
   "cell_type": "code",
   "execution_count": null,
   "metadata": {},
   "outputs": [],
   "source": []
  }
 ],
 "metadata": {
  "kernelspec": {
   "display_name": "Python 3",
   "language": "python",
   "name": "python3"
  },
  "language_info": {
   "codemirror_mode": {
    "name": "ipython",
    "version": 3
   },
   "file_extension": ".py",
   "mimetype": "text/x-python",
   "name": "python",
   "nbconvert_exporter": "python",
   "pygments_lexer": "ipython3",
   "version": "3.7.3"
  }
 },
 "nbformat": 4,
 "nbformat_minor": 2
}
